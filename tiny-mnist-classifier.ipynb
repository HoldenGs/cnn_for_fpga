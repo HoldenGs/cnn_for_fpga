{
 "cells": [
  {
   "cell_type": "code",
   "execution_count": 6,
   "metadata": {
    "_cell_guid": "b1076dfc-b9ad-4769-8c92-a6c4dae69d19",
    "_uuid": "8f2839f25d086af736a60e9eeb907d3b93b6e0e5",
    "execution": {
     "iopub.execute_input": "2025-03-03T23:28:41.967399Z",
     "iopub.status.busy": "2025-03-03T23:28:41.967075Z",
     "iopub.status.idle": "2025-03-03T23:28:44.896598Z",
     "shell.execute_reply": "2025-03-03T23:28:44.895341Z",
     "shell.execute_reply.started": "2025-03-03T23:28:41.967374Z"
    },
    "trusted": true
   },
   "outputs": [
    {
     "name": "stdout",
     "output_type": "stream",
     "text": [
      "/kaggle/input/digit-recognizer/sample_submission.csv\n",
      "/kaggle/input/digit-recognizer/train.csv\n",
      "/kaggle/input/digit-recognizer/test.csv\n"
     ]
    }
   ],
   "source": [
    "# This Python 3 environment comes with many helpful analytics libraries installed\n",
    "# It is defined by the kaggle/python docker image: https://github.com/kaggle/docker-python\n",
    "# For example, here's several helpful packages to load in \n",
    "\n",
    "import numpy as np # linear algebra\n",
    "import pandas as pd # data processing, CSV file I/O (e.g. pd.read_csv)\n",
    "import cv2\n",
    "import seaborn as sns\n",
    "import matplotlib.pyplot as plt\n",
    "import torch\n",
    "from torch import nn\n",
    "from torch.utils.data import Dataset, DataLoader\n",
    "from torchvision import transforms, utils, models\n",
    "import torch.nn as nn\n",
    "import torch.optim as optim\n",
    "import torch.nn.functional as F\n",
    "\n",
    "# Input data files are available in the \"../input/\" directory.\n",
    "# For example, running this (by clicking run or pressing Shift+Enter) will list all files under the input directory\n",
    "\n",
    "import os\n",
    "for dirname, _, filenames in os.walk('/kaggle/input'):\n",
    "    for filename in filenames:\n",
    "        print(os.path.join(dirname, filename))\n",
    "\n",
    "# Any results you write to the current directory are saved as output."
   ]
  },
  {
   "cell_type": "code",
   "execution_count": 7,
   "metadata": {
    "execution": {
     "iopub.execute_input": "2025-03-03T23:28:44.898376Z",
     "iopub.status.busy": "2025-03-03T23:28:44.897894Z",
     "iopub.status.idle": "2025-03-03T23:28:44.902510Z",
     "shell.execute_reply": "2025-03-03T23:28:44.901485Z",
     "shell.execute_reply.started": "2025-03-03T23:28:44.898345Z"
    },
    "trusted": true
   },
   "outputs": [
    {
     "name": "stdout",
     "output_type": "stream",
     "text": [
      "2.5.1+cu121\n"
     ]
    }
   ],
   "source": [
    "\n",
    "import torch\n",
    "print(torch.__version__)"
   ]
  },
  {
   "cell_type": "code",
   "execution_count": 8,
   "metadata": {
    "execution": {
     "iopub.execute_input": "2025-03-03T23:28:45.771137Z",
     "iopub.status.busy": "2025-03-03T23:28:45.770738Z",
     "iopub.status.idle": "2025-03-03T23:28:45.779294Z",
     "shell.execute_reply": "2025-03-03T23:28:45.778071Z",
     "shell.execute_reply.started": "2025-03-03T23:28:45.771103Z"
    },
    "trusted": true
   },
   "outputs": [],
   "source": [
    "class MNIST_data(Dataset):\n",
    "    \"\"\"MNIST dtaa set\"\"\"\n",
    "    \n",
    "    def __init__(self, file_path, \n",
    "                 transform = transforms.Compose([transforms.ToPILImage(), transforms.ToTensor(), \n",
    "                     transforms.Normalize(mean=(0.5,), std=(0.5,))])\n",
    "                ):\n",
    "        \n",
    "        df = pd.read_csv(file_path)\n",
    "        \n",
    "        if len(df.columns) == 784:\n",
    "            # test data\n",
    "            self.X = df.values.reshape((-1,28,28)).astype(np.uint8)[:,:,:,None]\n",
    "            self.y = None\n",
    "        else:\n",
    "            # training data\n",
    "            self.X = df.iloc[:,1:].values.reshape((-1,28,28)).astype(np.uint8)[:,:,:,None]\n",
    "            self.y = torch.from_numpy(df.iloc[:,0].values)\n",
    "            \n",
    "        self.transform = transform\n",
    "    \n",
    "    def __len__(self):\n",
    "        return len(self.X)\n",
    "\n",
    "    def __getitem__(self, idx):\n",
    "        if self.y is not None:\n",
    "            return self.transform(self.X[idx]), self.y[idx]\n",
    "        else:\n",
    "            return self.transform(self.X[idx])"
   ]
  },
  {
   "cell_type": "code",
   "execution_count": 9,
   "metadata": {
    "execution": {
     "iopub.execute_input": "2025-03-03T23:28:48.075910Z",
     "iopub.status.busy": "2025-03-03T23:28:48.075568Z",
     "iopub.status.idle": "2025-03-03T23:28:53.188643Z",
     "shell.execute_reply": "2025-03-03T23:28:53.187626Z",
     "shell.execute_reply.started": "2025-03-03T23:28:48.075885Z"
    },
    "trusted": true
   },
   "outputs": [],
   "source": [
    "batch_size = 64\n",
    "\n",
    "train_dataset = MNIST_data('/kaggle/input/digit-recognizer/train.csv', transform= transforms.Compose(\n",
    "                            [transforms.ToPILImage(), transforms.ToTensor(), transforms.Normalize(mean=(0.5,), std=(0.5,))]))\n",
    "test_dataset = MNIST_data('/kaggle/input/digit-recognizer/test.csv')\n",
    "\n",
    "\n",
    "train_loader = torch.utils.data.DataLoader(dataset=train_dataset,\n",
    "                                           batch_size=batch_size, shuffle=True)\n",
    "test_loader = torch.utils.data.DataLoader(dataset=test_dataset,\n",
    "                                           batch_size=batch_size, shuffle=False)"
   ]
  },
  {
   "cell_type": "code",
   "execution_count": 10,
   "metadata": {
    "execution": {
     "iopub.execute_input": "2025-03-03T23:28:55.445021Z",
     "iopub.status.busy": "2025-03-03T23:28:55.444630Z",
     "iopub.status.idle": "2025-03-03T23:28:55.671194Z",
     "shell.execute_reply": "2025-03-03T23:28:55.670133Z",
     "shell.execute_reply.started": "2025-03-03T23:28:55.444964Z"
    },
    "trusted": true
   },
   "outputs": [
    {
     "name": "stdout",
     "output_type": "stream",
     "text": [
      "model size:\n",
      "12906 parameters\n"
     ]
    },
    {
     "data": {
      "image/png": "[encoded data removed]",
      "text/plain": [
       "<Figure size 400x400 with 1 Axes>"
      ]
     },
     "metadata": {},
     "output_type": "display_data"
    },
    {
     "name": "stdout",
     "output_type": "stream",
     "text": [
      "Input shape: torch.Size([1, 1, 28, 28])\n",
      "Predicted digit: 9\n",
      "Output probabilities: [0.0859375  0.03125    0.0703125  0.0625     0.109375   0.0390625\n",
      " 0.01953125 0.06640625 0.046875   0.46484375]\n"
     ]
    },
    {
     "name": "stderr",
     "output_type": "stream",
     "text": [
      "/usr/local/lib/python3.10/dist-packages/torch/nn/modules/module.py:1844: UserWarning: Implicit dimension choice for softmax has been deprecated. Change the call to include dim=X as an argument.\n",
      "  return inner()\n"
     ]
    }
   ],
   "source": [
    "\n",
    "\n",
    "\n",
    "class OptimizedCNN(nn.Module):\n",
    "    def __init__(self):\n",
    "        super(OptimizedCNN, self).__init__()\n",
    "        self.conv1 = nn.Sequential(\n",
    "            nn.Conv2d(in_channels=1, out_channels=16, kernel_size=3),  # Reduced filters and kernel size\n",
    "            nn.BatchNorm2d(16),\n",
    "            nn.ReLU(),\n",
    "            nn.MaxPool2d(kernel_size=2, stride=2)\n",
    "        )\n",
    "        \n",
    "        self.conv2 = nn.Sequential(\n",
    "            nn.Conv2d(in_channels=16, out_channels=32, kernel_size=3),  # Reduced filters and kernel size\n",
    "            nn.BatchNorm2d(32),\n",
    "            nn.ReLU(),\n",
    "            nn.MaxPool2d(kernel_size=2, stride=2)\n",
    "        )\n",
    "        \n",
    "        self.fc = nn.Sequential(\n",
    "            nn.Flatten(),\n",
    "            nn.Linear(32 * 5 * 5, 10),\n",
    "            nn.Softmax()\n",
    "        )\n",
    "    \n",
    "    def forward(self, x):\n",
    "        x = self.conv1(x)\n",
    "        x = self.conv2(x)\n",
    "        x = self.fc(x)\n",
    "        return x\n",
    "\n",
    "model = OptimizedCNN()\n",
    "\n",
    "model.qconfig = torch.quantization.default_qconfig\n",
    "model_prepared = torch.quantization.prepare_qat(model)\n",
    "\n",
    "print(\"model size:\")\n",
    "print(sum(p.numel() for p in model_prepared.parameters() if p.requires_grad), \"parameters\")\n",
    "\n",
    "# Create a test input (28x28 grayscale image)\n",
    "test_input = torch.randn(1, 1, 28, 28)  # Batch size 1, 1 channel, 28x28 pixels\n",
    "\n",
    "# Display the test input\n",
    "plt.figure(figsize=(4, 4))\n",
    "plt.imshow(test_input[0, 0].numpy(), cmap='gray')\n",
    "plt.axis('off')\n",
    "plt.title('Test Input Image')\n",
    "plt.show()\n",
    "\n",
    "# Print input shape\n",
    "print(f\"Input shape: {test_input.shape}\")\n",
    "\n",
    "# Test the model with the input\n",
    "with torch.no_grad():\n",
    "    output = model_prepared(test_input)\n",
    "    predicted_digit = torch.argmax(output).item()\n",
    "    print(f\"Predicted digit: {predicted_digit}\")\n",
    "    print(f\"Output probabilities: {output[0].numpy()}\")"
   ]
  },
  {
   "cell_type": "code",
   "execution_count": 11,
   "metadata": {
    "execution": {
     "iopub.execute_input": "2025-03-03T23:29:00.093825Z",
     "iopub.status.busy": "2025-03-03T23:29:00.093474Z",
     "iopub.status.idle": "2025-03-03T23:29:00.106047Z",
     "shell.execute_reply": "2025-03-03T23:29:00.105069Z",
     "shell.execute_reply.started": "2025-03-03T23:29:00.093785Z"
    },
    "trusted": true
   },
   "outputs": [
    {
     "data": {
      "text/plain": [
       "OptimizedCNN(\n",
       "  (conv1): Sequential(\n",
       "    (0): Conv2d(\n",
       "      1, 16, kernel_size=(3, 3), stride=(1, 1)\n",
       "      (weight_fake_quant): MinMaxObserver(min_val=-0.33276236057281494, max_val=0.32955655455589294)\n",
       "      (activation_post_process): MinMaxObserver(min_val=-2.4491498470306396, max_val=2.510695219039917)\n",
       "    )\n",
       "    (1): BatchNorm2d(\n",
       "      16, eps=1e-05, momentum=0.1, affine=True, track_running_stats=True\n",
       "      (activation_post_process): MinMaxObserver(min_val=-3.6879217624664307, max_val=3.7476508617401123)\n",
       "    )\n",
       "    (2): ReLU()\n",
       "    (3): MaxPool2d(kernel_size=2, stride=2, padding=0, dilation=1, ceil_mode=False)\n",
       "  )\n",
       "  (conv2): Sequential(\n",
       "    (0): Conv2d(\n",
       "      16, 32, kernel_size=(3, 3), stride=(1, 1)\n",
       "      (weight_fake_quant): MinMaxObserver(min_val=-0.083328977227211, max_val=0.08331044018268585)\n",
       "      (activation_post_process): MinMaxObserver(min_val=-2.461416482925415, max_val=2.594917058944702)\n",
       "    )\n",
       "    (1): BatchNorm2d(\n",
       "      32, eps=1e-05, momentum=0.1, affine=True, track_running_stats=True\n",
       "      (activation_post_process): MinMaxObserver(min_val=-3.583470344543457, max_val=3.7196600437164307)\n",
       "    )\n",
       "    (2): ReLU()\n",
       "    (3): MaxPool2d(kernel_size=2, stride=2, padding=0, dilation=1, ceil_mode=False)\n",
       "  )\n",
       "  (fc): Sequential(\n",
       "    (0): Flatten(start_dim=1, end_dim=-1)\n",
       "    (1): Linear(\n",
       "      in_features=800, out_features=10, bias=True\n",
       "      (weight_fake_quant): MinMaxObserver(min_val=-0.035346221178770065, max_val=0.03534959256649017)\n",
       "      (activation_post_process): MinMaxObserver(min_val=-1.4467216730117798, max_val=1.7028218507766724)\n",
       "    )\n",
       "    (2): Softmax(\n",
       "      dim=None\n",
       "      (activation_post_process): FixedQParamsFakeQuantize(\n",
       "        fake_quant_enabled=tensor([1], dtype=torch.uint8), observer_enabled=tensor([1], dtype=torch.uint8), scale=tensor([0.0039]), zero_point=tensor([0], dtype=torch.int32), dtype=torch.quint8, quant_min=0, quant_max=255, qscheme=torch.per_tensor_affine\n",
       "        (activation_post_process): FixedQParamsObserver()\n",
       "      )\n",
       "    )\n",
       "  )\n",
       ")"
      ]
     },
     "execution_count": 11,
     "metadata": {},
     "output_type": "execute_result"
    }
   ],
   "source": [
    "model_prepared"
   ]
  },
  {
   "cell_type": "code",
   "execution_count": 12,
   "metadata": {
    "execution": {
     "iopub.execute_input": "2025-03-03T23:29:03.152627Z",
     "iopub.status.busy": "2025-03-03T23:29:03.152288Z",
     "iopub.status.idle": "2025-03-03T23:29:03.157498Z",
     "shell.execute_reply": "2025-03-03T23:29:03.156360Z",
     "shell.execute_reply.started": "2025-03-03T23:29:03.152599Z"
    },
    "trusted": true
   },
   "outputs": [],
   "source": [
    "\n",
    "# if(torch.cuda.is_available()):\n",
    "#     model_prepared = model_prepared.cuda()\n",
    "criterion = nn.CrossEntropyLoss()\n",
    "optimizer = optim.SGD(model_prepared.parameters(), lr=0.001, momentum=0.9)"
   ]
  },
  {
   "cell_type": "code",
   "execution_count": 13,
   "metadata": {
    "execution": {
     "iopub.execute_input": "2025-03-03T23:29:05.443923Z",
     "iopub.status.busy": "2025-03-03T23:29:05.443585Z",
     "iopub.status.idle": "2025-03-03T23:36:15.422213Z",
     "shell.execute_reply": "2025-03-03T23:36:15.421150Z",
     "shell.execute_reply.started": "2025-03-03T23:29:05.443898Z"
    },
    "trusted": true
   },
   "outputs": [
    {
     "name": "stdout",
     "output_type": "stream",
     "text": [
      "Training....\n",
      "Epoch: 0 Batch: 100 loss: 2.120450735092163\n",
      "Epoch: 0 Batch: 200 loss: 1.8638532161712646\n",
      "Epoch: 0 Batch: 300 loss: 1.7470965385437012\n",
      "Epoch: 0 Batch: 400 loss: 1.7991697788238525\n",
      "Epoch: 0 Batch: 500 loss: 1.69730544090271\n",
      "Epoch: 0 Batch: 600 loss: 1.7072259187698364\n",
      "Epoch: 1 Batch: 100 loss: 1.6724646091461182\n",
      "Epoch: 1 Batch: 200 loss: 1.6629966497421265\n",
      "Epoch: 1 Batch: 300 loss: 1.6116080284118652\n",
      "Epoch: 1 Batch: 400 loss: 1.6446120738983154\n",
      "Epoch: 1 Batch: 500 loss: 1.6088331937789917\n",
      "Epoch: 1 Batch: 600 loss: 1.5998561382293701\n",
      "Epoch: 2 Batch: 100 loss: 1.6459248065948486\n",
      "Epoch: 2 Batch: 200 loss: 1.6953494548797607\n",
      "Epoch: 2 Batch: 300 loss: 1.5828557014465332\n",
      "Epoch: 2 Batch: 400 loss: 1.5574270486831665\n",
      "Epoch: 2 Batch: 500 loss: 1.6122158765792847\n",
      "Epoch: 2 Batch: 600 loss: 1.6902621984481812\n",
      "Epoch: 3 Batch: 100 loss: 1.5719926357269287\n",
      "Epoch: 3 Batch: 200 loss: 1.6234921216964722\n",
      "Epoch: 3 Batch: 300 loss: 1.6299961805343628\n",
      "Epoch: 3 Batch: 400 loss: 1.5670894384384155\n",
      "Epoch: 3 Batch: 500 loss: 1.709006905555725\n",
      "Epoch: 3 Batch: 600 loss: 1.6652053594589233\n",
      "Epoch: 4 Batch: 100 loss: 1.624651551246643\n",
      "Epoch: 4 Batch: 200 loss: 1.6347942352294922\n",
      "Epoch: 4 Batch: 300 loss: 1.5729597806930542\n",
      "Epoch: 4 Batch: 400 loss: 1.621190071105957\n",
      "Epoch: 4 Batch: 500 loss: 1.5929851531982422\n",
      "Epoch: 4 Batch: 600 loss: 1.5776736736297607\n",
      "Epoch: 5 Batch: 100 loss: 1.6547961235046387\n",
      "Epoch: 5 Batch: 200 loss: 1.544640302658081\n",
      "Epoch: 5 Batch: 300 loss: 1.5580495595932007\n",
      "Epoch: 5 Batch: 400 loss: 1.6059978008270264\n",
      "Epoch: 5 Batch: 500 loss: 1.6090439558029175\n",
      "Epoch: 5 Batch: 600 loss: 1.5925276279449463\n",
      "Epoch: 6 Batch: 100 loss: 1.6239712238311768\n",
      "Epoch: 6 Batch: 200 loss: 1.5521420240402222\n",
      "Epoch: 6 Batch: 300 loss: 1.610314965248108\n",
      "Epoch: 6 Batch: 400 loss: 1.5780149698257446\n",
      "Epoch: 6 Batch: 500 loss: 1.5813642740249634\n",
      "Epoch: 6 Batch: 600 loss: 1.5505403280258179\n",
      "Epoch: 7 Batch: 100 loss: 1.5399422645568848\n",
      "Epoch: 7 Batch: 200 loss: 1.547340750694275\n",
      "Epoch: 7 Batch: 300 loss: 1.5763846635818481\n",
      "Epoch: 7 Batch: 400 loss: 1.5964747667312622\n",
      "Epoch: 7 Batch: 500 loss: 1.5475752353668213\n",
      "Epoch: 7 Batch: 600 loss: 1.539350152015686\n",
      "Epoch: 8 Batch: 100 loss: 1.5048096179962158\n",
      "Epoch: 8 Batch: 200 loss: 1.4998559951782227\n",
      "Epoch: 8 Batch: 300 loss: 1.5081721544265747\n",
      "Epoch: 8 Batch: 400 loss: 1.5024497509002686\n",
      "Epoch: 8 Batch: 500 loss: 1.5042082071304321\n",
      "Epoch: 8 Batch: 600 loss: 1.5142592191696167\n",
      "Epoch: 9 Batch: 100 loss: 1.531704306602478\n",
      "Epoch: 9 Batch: 200 loss: 1.5191010236740112\n",
      "Epoch: 9 Batch: 300 loss: 1.51326322555542\n",
      "Epoch: 9 Batch: 400 loss: 1.4969518184661865\n",
      "Epoch: 9 Batch: 500 loss: 1.5002589225769043\n",
      "Epoch: 9 Batch: 600 loss: 1.5193307399749756\n",
      "Epoch: 10 Batch: 100 loss: 1.5047872066497803\n",
      "Epoch: 10 Batch: 200 loss: 1.5559723377227783\n",
      "Epoch: 10 Batch: 300 loss: 1.4771499633789062\n",
      "Epoch: 10 Batch: 400 loss: 1.4895365238189697\n",
      "Epoch: 10 Batch: 500 loss: 1.5117515325546265\n",
      "Epoch: 10 Batch: 600 loss: 1.4702653884887695\n",
      "Epoch: 11 Batch: 100 loss: 1.486514925956726\n",
      "Epoch: 11 Batch: 200 loss: 1.4761253595352173\n",
      "Epoch: 11 Batch: 300 loss: 1.5036306381225586\n",
      "Epoch: 11 Batch: 400 loss: 1.4992014169692993\n",
      "Epoch: 11 Batch: 500 loss: 1.5213180780410767\n",
      "Epoch: 11 Batch: 600 loss: 1.4781794548034668\n",
      "Epoch: 12 Batch: 100 loss: 1.5057123899459839\n",
      "Epoch: 12 Batch: 200 loss: 1.4966202974319458\n",
      "Epoch: 12 Batch: 300 loss: 1.5233228206634521\n",
      "Epoch: 12 Batch: 400 loss: 1.5057533979415894\n",
      "Epoch: 12 Batch: 500 loss: 1.4694868326187134\n",
      "Epoch: 12 Batch: 600 loss: 1.4700504541397095\n",
      "Epoch: 13 Batch: 100 loss: 1.5090903043746948\n",
      "Epoch: 13 Batch: 200 loss: 1.48253333568573\n",
      "Epoch: 13 Batch: 300 loss: 1.5077028274536133\n",
      "Epoch: 13 Batch: 400 loss: 1.4981210231781006\n",
      "Epoch: 13 Batch: 500 loss: 1.4793643951416016\n",
      "Epoch: 13 Batch: 600 loss: 1.508238434791565\n",
      "Epoch: 14 Batch: 100 loss: 1.4955357313156128\n",
      "Epoch: 14 Batch: 200 loss: 1.5085256099700928\n",
      "Epoch: 14 Batch: 300 loss: 1.4717422723770142\n",
      "Epoch: 14 Batch: 400 loss: 1.4838765859603882\n",
      "Epoch: 14 Batch: 500 loss: 1.5086033344268799\n",
      "Epoch: 14 Batch: 600 loss: 1.4942377805709839\n",
      "Epoch: 15 Batch: 100 loss: 1.4838873147964478\n",
      "Epoch: 15 Batch: 200 loss: 1.4790087938308716\n",
      "Epoch: 15 Batch: 300 loss: 1.4943822622299194\n",
      "Epoch: 15 Batch: 400 loss: 1.4870377779006958\n",
      "Epoch: 15 Batch: 500 loss: 1.4798399209976196\n",
      "Epoch: 15 Batch: 600 loss: 1.470399260520935\n",
      "Epoch: 16 Batch: 100 loss: 1.4911576509475708\n",
      "Epoch: 16 Batch: 200 loss: 1.4678865671157837\n",
      "Epoch: 16 Batch: 300 loss: 1.526856780052185\n",
      "Epoch: 16 Batch: 400 loss: 1.4899053573608398\n",
      "Epoch: 16 Batch: 500 loss: 1.5001497268676758\n",
      "Epoch: 16 Batch: 600 loss: 1.5244060754776\n",
      "Epoch: 17 Batch: 100 loss: 1.5042001008987427\n",
      "Epoch: 17 Batch: 200 loss: 1.485700249671936\n",
      "Epoch: 17 Batch: 300 loss: 1.51985502243042\n",
      "Epoch: 17 Batch: 400 loss: 1.493901252746582\n",
      "Epoch: 17 Batch: 500 loss: 1.464779019355774\n",
      "Epoch: 17 Batch: 600 loss: 1.5135526657104492\n",
      "Epoch: 18 Batch: 100 loss: 1.5226224660873413\n",
      "Epoch: 18 Batch: 200 loss: 1.4848037958145142\n",
      "Epoch: 18 Batch: 300 loss: 1.4910997152328491\n",
      "Epoch: 18 Batch: 400 loss: 1.490258812904358\n",
      "Epoch: 18 Batch: 500 loss: 1.4685440063476562\n",
      "Epoch: 18 Batch: 600 loss: 1.5001180171966553\n",
      "Epoch: 19 Batch: 100 loss: 1.4867929220199585\n",
      "Epoch: 19 Batch: 200 loss: 1.4701508283615112\n",
      "Epoch: 19 Batch: 300 loss: 1.4829853773117065\n",
      "Epoch: 19 Batch: 400 loss: 1.4746052026748657\n",
      "Epoch: 19 Batch: 500 loss: 1.4908307790756226\n",
      "Epoch: 19 Batch: 600 loss: 1.4658434391021729\n",
      "Training Completed in: 429.97130823135376 secs\n",
      "Training accuracy: 92.87476190476191 %\n"
     ]
    }
   ],
   "source": [
    "import time\n",
    "\n",
    "print('Training....')\n",
    "total = 0\n",
    "correct = 0\n",
    "start = time.time()\n",
    "\n",
    "for epoch in range(40):\n",
    "    \n",
    "    for i, data in enumerate(train_loader, 1):\n",
    "        images, labels = data\n",
    "\n",
    "        #if(torch.cuda.is_available()):\n",
    "        # images = images.cuda()\n",
    "        # labels = labels.cuda()\n",
    "\n",
    "        optimizer.zero_grad()    \n",
    "        outputs = model_prepared(images)\n",
    "\n",
    "        _, predicted = torch.max(outputs.data, 1)\n",
    "        total += labels.size(0)\n",
    "        correct += (predicted == labels).sum().item()\n",
    "\n",
    "        loss = criterion(outputs, labels)\n",
    "        if(i%100 == 0):\n",
    "            print('Epoch: {} Batch: {} loss: {}'.format(epoch, i, loss.item()))\n",
    "\n",
    "        loss.backward()\n",
    "        optimizer.step()\n",
    "\n",
    "model_int8 = torch.quantization.convert(model_prepared)\n",
    "\n",
    "print('Training Completed in: {} secs'.format(time.time()-start))\n",
    "print('Training accuracy: {} %'.format((correct/total)*100))\n",
    "\n",
    "        "
   ]
  },
  {
   "cell_type": "code",
   "execution_count": 16,
   "metadata": {
    "execution": {
     "iopub.execute_input": "2025-03-03T23:37:44.945306Z",
     "iopub.status.busy": "2025-03-03T23:37:44.944921Z",
     "iopub.status.idle": "2025-03-03T23:37:54.504910Z",
     "shell.execute_reply": "2025-03-03T23:37:54.503832Z",
     "shell.execute_reply.started": "2025-03-03T23:37:44.945274Z"
    },
    "trusted": true
   },
   "outputs": [
    {
     "name": "stdout",
     "output_type": "stream",
     "text": [
      "Predicting....\n"
     ]
    },
    {
     "name": "stderr",
     "output_type": "stream",
     "text": [
      "/usr/local/lib/python3.10/dist-packages/torch/nn/modules/module.py:1736: UserWarning: Implicit dimension choice for softmax has been deprecated. Change the call to include dim=X as an argument.\n",
      "  return self._call_impl(*args, **kwargs)\n"
     ]
    },
    {
     "name": "stdout",
     "output_type": "stream",
     "text": [
      "Batch 100 done\n",
      "Batch 200 done\n",
      "Batch 300 done\n",
      "Batch 400 done\n",
      "Completed in 9.553915023803711 secs\n"
     ]
    }
   ],
   "source": [
    "print('Predicting....')\n",
    "start = time.time()\n",
    "\n",
    "predictions = torch.LongTensor()\n",
    "for i, data in enumerate(test_loader, 1):\n",
    "    data = data\n",
    "    \n",
    "    if(i%100 == 0):\n",
    "        print('Batch {} done'.format(i))\n",
    "    outputs = model(data)\n",
    "    \n",
    "    pred = outputs.data.max(1, keepdim=True)[1]\n",
    "    predictions = torch.cat((predictions, pred), dim=0)\n",
    "    \n",
    "print('Completed in {} secs'.format(time.time() - start))"
   ]
  },
  {
   "cell_type": "code",
   "execution_count": 17,
   "metadata": {
    "execution": {
     "iopub.execute_input": "2025-03-03T23:38:13.343194Z",
     "iopub.status.busy": "2025-03-03T23:38:13.342835Z",
     "iopub.status.idle": "2025-03-03T23:38:13.354565Z",
     "shell.execute_reply": "2025-03-03T23:38:13.353474Z",
     "shell.execute_reply.started": "2025-03-03T23:38:13.343168Z"
    },
    "trusted": true
   },
   "outputs": [],
   "source": [
    "# Quantize model\n",
    "\n",
    "model_int8 = torch.quantization.convert(model, inplace=False)\n",
    "\n",
    "# Save the quantized model\n",
    "torch.save(model_int8, '/kaggle/working/model_dynamic_quantized.pth')"
   ]
  },
  {
   "cell_type": "code",
   "execution_count": null,
   "metadata": {
    "execution": {
     "execution_failed": "2025-03-03T23:26:12.936Z"
    },
    "trusted": true
   },
   "outputs": [],
   "source": [
    "import os\n",
    "\n",
    "def get_file_size_kb(file_path):\n",
    "  \"\"\"\n",
    "    Retrieves the size of a file in kilobytes.\n",
    "\n",
    "    Args:\n",
    "        file_path: The path to the file.\n",
    "\n",
    "    Returns:\n",
    "        The file size in kilobytes, or None if the file does not exist.\n",
    "    \"\"\"\n",
    "  try:\n",
    "    size_bytes = os.path.getsize(file_path)\n",
    "    size_kb = size_bytes / 1024\n",
    "    return size_kb\n",
    "  except FileNotFoundError:\n",
    "    return None\n",
    "\n",
    "# Example usage:\n",
    "file_path = \"model_dynamic_quantized.pth\"  # Replace with your file path\n",
    "file_size_kb = get_file_size_kb(file_path)\n",
    "\n",
    "if file_size_kb is not None:\n",
    "  print(f\"The size of '{file_path}' is: {file_size_kb:.2f} KB\")\n",
    "else:\n",
    "  print(f\"File '{file_path}' not found.\")"
   ]
  },
  {
   "cell_type": "code",
   "execution_count": null,
   "metadata": {
    "execution": {
     "execution_failed": "2025-03-03T23:26:12.936Z"
    },
    "trusted": true
   },
   "outputs": [],
   "source": [
    "import torchvision.datasets as datasets\n",
    "\n",
    "# Load MNIST dataset\n",
    "transform = transforms.Compose([\n",
    "    transforms.ToTensor(),\n",
    "])\n",
    "\n",
    "mnist_dataset = datasets.MNIST(root='./data', train=True, transform=transform, download=True)\n",
    "\n",
    "# Sample a random image from MNIST\n",
    "sample_idx = torch.randint(0, len(mnist_dataset), (1,)).item()\n",
    "sample_image, sample_label = mnist_dataset[sample_idx]\n",
    "\n",
    "# Display the image\n",
    "plt.figure(figsize=(4, 4))\n",
    "plt.imshow(sample_image[0].numpy(), cmap='gray')\n",
    "plt.axis('off')\n",
    "plt.title(f'True Label: {sample_label}')\n",
    "plt.show()\n",
    "\n",
    "# Prepare the image for the model (add batch dimension)\n",
    "model_input = sample_image.unsqueeze(0)\n",
    "\n",
    "# Get model prediction\n",
    "with torch.no_grad():\n",
    "    output = model_optimized(model_input)\n",
    "    predicted_digit = torch.argmax(output).item()\n",
    "    probabilities = output[0].numpy()\n",
    "    \n",
    "    print(f\"True Label: {sample_label}\")\n",
    "    print(f\"Predicted Label: {predicted_digit}\")\n",
    "    print(\"\\nProbabilities for each digit:\")\n",
    "    for i, prob in enumerate(probabilities):\n",
    "        print(f\"Digit {i}: {prob:.2%}\")"
   ]
  },
  {
   "cell_type": "code",
   "execution_count": null,
   "metadata": {
    "execution": {
     "execution_failed": "2025-03-03T23:26:12.936Z"
    },
    "trusted": true
   },
   "outputs": [],
   "source": [
    "out_df = pd.DataFrame(np.c_[np.arange(1, len(test_dataset)+1)[:,None], predictions.numpy()], columns=['ImageId', 'Label'])"
   ]
  },
  {
   "cell_type": "code",
   "execution_count": null,
   "metadata": {
    "execution": {
     "execution_failed": "2025-03-03T23:26:12.936Z"
    },
    "trusted": true
   },
   "outputs": [],
   "source": [
    "out_df.to_csv('submission.csv', index=False)"
   ]
  },
  {
   "cell_type": "code",
   "execution_count": null,
   "metadata": {
    "execution": {
     "execution_failed": "2025-03-03T23:26:12.936Z"
    },
    "trusted": true
   },
   "outputs": [],
   "source": [
    "out_df.head()"
   ]
  },
  {
   "cell_type": "code",
   "execution_count": null,
   "metadata": {
    "trusted": true
   },
   "outputs": [],
   "source": []
  }
 ],
 "metadata": {
  "kaggle": {
   "accelerator": "none",
   "dataSources": [
    {
     "databundleVersionId": 861823,
     "sourceId": 3004,
     "sourceType": "competition"
    }
   ],
   "isGpuEnabled": false,
   "isInternetEnabled": true,
   "language": "python",
   "sourceType": "notebook"
  },
  "kernelspec": {
   "display_name": "Python 3",
   "language": "python",
   "name": "python3"
  },
  "language_info": {
   "codemirror_mode": {
    "name": "ipython",
    "version": 3
   },
   "file_extension": ".py",
   "mimetype": "text/x-python",
   "name": "python",
   "nbconvert_exporter": "python",
   "pygments_lexer": "ipython3",
   "version": "3.10.12"
  }
 },
 "nbformat": 4,
 "nbformat_minor": 4
}
